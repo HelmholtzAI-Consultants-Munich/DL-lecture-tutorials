{
 "cells": [
  {
   "attachments": {},
   "cell_type": "markdown",
   "metadata": {
    "id": "uuTZlmJMmVfQ"
   },
   "source": [
    "![logo](https://github.com/HelmholtzAI-Consultants-Munich/DL-lecture-tutorials/blob/main/figures/1128-191-max.png?raw=true)"
   ]
  },
  {
   "attachments": {},
   "cell_type": "markdown",
   "metadata": {
    "id": "HB_zoJ0NmVfR"
   },
   "source": [
    "Getting to know the power of Deep Learnig with The Teachable Machine\n",
    "---\n",
    "[![Open In Colab](https://colab.research.google.com/assets/colab-badge.svg)](https://colab.research.google.com/github/HelmholtzAI-Consultants-Munich/DL-lecture-tutorials/blob/translatum_2023/notebooks/Teachable_machine_tutorial.ipynb)\n",
    "\n",
    "This notebook will introduce you to the fascinating Machine Learning (ML) adn Deep Learning (DL) world through the google experiment Teachable Machine."
   ]
  },
  {
   "attachments": {},
   "cell_type": "markdown",
   "metadata": {
    "id": "mf0ghc1mmVfS"
   },
   "source": [
    "This tutorial goes through the three major steps any ML or DL project relies on:\n",
    "\n",
    "- Providing data\n",
    "- Training a model\n",
    "- Testing and evaluating the trained model\n",
    "\n",
    "These will be the main subjects of this tutorial."
   ]
  },
  {
   "attachments": {},
   "cell_type": "markdown",
   "metadata": {
    "id": "Lds3y1YFmVfS"
   },
   "source": [
    "## 📄 Format\n",
    "\n",
    "For each major step (data, training, and testing) we provide:\n",
    "1.  **Introduction to key concepts:** General knowledge you need for the step. If you already know the concepts, you can simply skip the reading\n",
    "2.  **Task:** what you need to accomplish at this step\n",
    "3.  **Step-by-step tutorial:** how to accomplish the previously stated task on Teachable Machine"
   ]
  },
  {
   "attachments": {},
   "cell_type": "markdown",
   "metadata": {
    "id": "Zmwd49enmVfS"
   },
   "source": [
    "All along this tutorial, we will be working on binary classification for COVID data. In this problem, we will use the Lung CT scans dataset in order to predict whether the patient has Codiv-19 or not. Since the output can be positive or negative, this is a classic example of **binary classification**."
   ]
  },
  {
   "attachments": {},
   "cell_type": "markdown",
   "metadata": {
    "id": "fSP2iM-1mVfT"
   },
   "source": [
    "## 🤖 Teachable Machine\n",
    "We will conduct our experiments with the Teachable Machine. To access the website just click on this link: [Teachable Machine](https://teachablemachine.withgoogle.com/train) and you will see the following page.\n",
    "This tutorial is focused on image classification, but feel free to come back later and explore the other projects.\n",
    "\n",
    "<img  src=\"https://github.com/HelmholtzAI-Consultants-Munich/DL-lecture-tutorials/blob/main/figures/Teachable_machine.png?raw=true\"  alt=\"Teachable_machine\"  style=\"width: 700px;\"/>"
   ]
  },
  {
   "attachments": {},
   "cell_type": "markdown",
   "metadata": {
    "id": "FynqL7qimVfT"
   },
   "source": [
    "## Section 1 - Providing data"
   ]
  },
  {
   "attachments": {},
   "cell_type": "markdown",
   "metadata": {
    "id": "h9zRdb_EmVfT"
   },
   "source": [
    "### 💡 Key concepts\n",
    "\n",
    "With the term **Machine Learning** (ML) we define a set of algorithms and methods that provide a machine with the ability to learn automatically and improve from experience without being explicitly programmed.\n",
    "When we have labeled data, we can use the label to guide the learning process, and this is called **supervised learning**. If data are not labeled, it means that we don't have a guide or supervision, and this is called **unsupervised learning**.\n",
    "\n",
    "Within supervised learning, we can deal with two different kinds of problems:\n",
    " - **Regression problem**: the task of predicting a continuous quantity\n",
    " - **Classification problem**: the task of predicting a label or a class\n",
    "\n",
    "Another key concept for supervised learning models are:\n",
    " - **Training data:** in order to learn, a model needs to see enough examples of each class to be able to correctly classify new examples later.\n",
    " - **Training set:** the set of examples that the model learns from is called \n",
    " \n",
    "We will learn more about it during the tutorial."
   ]
  },
  {
   "attachments": {},
   "cell_type": "markdown",
   "metadata": {
    "id": "Bprc53aumVfT"
   },
   "source": [
    "### ✅ Task: Get to know the data and upload it to the Teachable Machine\n",
    "\n",
    "#### Dataset\n",
    "The dataset, available on Kaggle (https://www.kaggle.com/datasets/luisblanche/covidct), will be downloaded in the next step directly into your google drive.\n",
    "The dataset counts a total of 746 images divided as follows:\n",
    "- 397 No Covid\n",
    "- 349 Covid\n",
    "\n",
    "The images, i.e. CT scans, are obtained through Computed Tomography, a medical imaging technique used in radiology (X-ray) to obtain noninvasively detailed internal images of the body for diagnostic purposes. Only with proper training is it possible to interpret the scans, so without a radiology/medical background, it is tough to understand the presence of Covid-19 from the scans. But we will see that a well-trained Neural Network (NN) can help the technicians and doctors diagnose this kind of disease."
   ]
  },
  {
   "attachments": {},
   "cell_type": "markdown",
   "metadata": {
    "id": "9lZeVIdtmVfU"
   },
   "source": [
    "### 📝 Step by step tutorial"
   ]
  },
  {
   "cell_type": "code",
   "execution_count": null,
   "metadata": {
    "cellView": "form",
    "id": "PM2ya1kHmVfU"
   },
   "outputs": [],
   "source": [
    "#@markdown #### Step 1. Run this cell to connect your Google Drive to Colab and install packages\n",
    "#@markdown * Click on the URL.\n",
    "#@markdown * Sign in your Google Account.\n",
    "#@markdown * Click on \"Files\" site on the right. Refresh the site. Your Google Drive folder should now be available here as \"drive\".\n",
    "#mounts user's Google Drive to Google Colab.\n",
    "#@markdown At this point, a folder has been created in your Drive and you can navigate it through the lefthand panel in Colab, you might also have received an email that informs you about the access on your Google Drive.\n",
    "\n",
    "from google.colab import drive\n",
    "drive.mount('/content/gdrive')\n",
    "%cd /content/gdrive/MyDrive/\n",
    "!git clone --branch translatum_2023 https://github.com/HelmholtzAI-Consultants-Munich/DL-lecture-tutorials.git \n",
    "%cd /content/gdrive/MyDrive/DL-lecture-tutorials\n",
    "\n",
    "from check_file import check_task_tm_2_1, check_task_tm_2_2"
   ]
  },
  {
   "attachments": {},
   "cell_type": "markdown",
   "metadata": {
    "id": "XOhs4P1CmVfU"
   },
   "source": [
    "####  Step 2. Look at the data\n",
    "Although not very intuitive in this example, it's always a good idea to take a look at your data first to get a sense of what you are working with."
   ]
  },
  {
   "attachments": {},
   "cell_type": "markdown",
   "metadata": {
    "id": "-jAOO1YMmVfU"
   },
   "source": [
    "####  🤖Teachable Machine interface: Classes\n",
    "\n",
    "After creating a new project, on the lefthand side of the page, you can edit the classes, choosing a label for each class you want the model to learn.\n",
    "You could both upload the images from your computer (as we will do in this tutorial), and record them using the webcam.\n",
    "In order to start collecting the images trough the camera hold on the blue button below the camera window, or open the menu and choose to record a few seconds without holding the button.\n",
    "\n",
    "<img  src=\"https://github.com/HelmholtzAI-Consultants-Munich/DL-lecture-tutorials/blob/translatum_2023/figures/Teachable_machine_classes.png?raw=true\"  alt=\"Teachable_machine_classes\"  style=\"width: 500px;\"/>"
   ]
  },
  {
   "attachments": {},
   "cell_type": "markdown",
   "metadata": {
    "id": "6hDJQRMsmVfV"
   },
   "source": [
    "####  Step 3. Upload training data\n",
    "For each class:\n",
    "1. Give it a name (COVID or No COVID)\n",
    "2. Import images from your Google Drive (if it's too slow you can download the data on your computer and upload them from there)\n",
    "3. Navigate to `data/train` and upload all corresponding images"
   ]
  },
  {
   "attachments": {},
   "cell_type": "markdown",
   "metadata": {
    "id": "sPwF2vaMmVfV"
   },
   "source": [
    "## Section 2 - Training a model"
   ]
  },
  {
   "attachments": {},
   "cell_type": "markdown",
   "metadata": {
    "id": "ex-J14nsmVfV"
   },
   "source": [
    "### 💡 Key concepts\n",
    "Hyper-parameters: one can obtain different Machine Learning models by configuring so-called hyper-parameters. In this example with focus on three of them:\n",
    "- **Epochs**: the number of iterations over the dataset.\n",
    "- **Batch Size**: the number of samples processed before the model is updated.\n",
    "- **Learning Rate**: step size during the training process that determines the speed and how well the model trains."
   ]
  },
  {
   "attachments": {},
   "cell_type": "markdown",
   "metadata": {
    "id": "rZYNro_LmVfV"
   },
   "source": [
    "### ✅ Task: Train the model to recognize Covid vs Non-Covid CT scans"
   ]
  },
  {
   "attachments": {},
   "cell_type": "markdown",
   "metadata": {
    "id": "wLCDGY0hmVfV"
   },
   "source": [
    "### 📝 Step by step tutorial"
   ]
  },
  {
   "attachments": {},
   "cell_type": "markdown",
   "metadata": {
    "id": "W_vjyoBKmVfV"
   },
   "source": [
    "#### Step 1. Click on Train Model!\n",
    "This uses the interface's default hyper-parameter values.\n",
    "Move on to the next step (testing and evaluating the model), and see how the model is doing."
   ]
  },
  {
   "attachments": {},
   "cell_type": "markdown",
   "metadata": {
    "id": "aDrhT3bFmVfV"
   },
   "source": [
    "#### Step 2. Play with hyper-parameters\n",
    "After trying default hyper-parameters, you can try to play with them and see what happens (Click on \"Advanced\").\n",
    "\n",
    "<img  src=\"https://github.com/HelmholtzAI-Consultants-Munich/DL-lecture-tutorials/blob/translatum_2023/figures/Teachable_machine_model.png?raw=true\"  alt=\"Teachable_machine_model\"  style=\"width: 250px;\"/>\n",
    "\n",
    "While the model trains, open the panel \"Under the hood\" and look at the learning curves and the accuracy."
   ]
  },
  {
   "attachments": {},
   "cell_type": "markdown",
   "metadata": {
    "id": "1x7K_d84mVfV"
   },
   "source": [
    "## Section 3 - Testing and evaluating the trained model"
   ]
  },
  {
   "attachments": {},
   "cell_type": "markdown",
   "metadata": {
    "id": "IPe18OWamVfV"
   },
   "source": [
    "### 💡 Key concepts\n",
    "Your goal is to check whether the model is able to recognize the disease or not and its performances. \n",
    "To have a wide comprehension of what is happening, one needs to check the learning curves during the training.\n",
    "\n",
    "**Accuracy per epoch** Accuracy is one of the evaluation metrics we can use to evaluate how good a model is. It can be defined as the number of samples correctly classified over the total number of samples.\n",
    "\n",
    "<center>\n",
    "\n",
    "$$\\text{Accuracy} = \\dfrac{\\text{ # of samples correctly classified}}{\\text{total # of sample}}$$\n",
    "\n",
    "</center>\n",
    "\n",
    "\n",
    "**Loss per epoch** Another interesting way to see if the model is correctly learning is to look at the loss function at different epochs. A NN works trying to minimize the difference between the prediction and the label, this is usually described through a *loss function*. If the loss function is decreasing over time, it means that the network is learning.\n",
    "\n",
    "**Confusion matrix** Sometimes accuracy is not always enough to evaluate a model. Let's see that with an example. Assume that we have 10 patients and only one of them has a disease. If our model predicts that a patient is always healthy, it means that its accuracy would be $\\frac{9}{10} = 0.90$, which is pretty high, even if the model is not giving us relevant information. Indeed, in this case, we are more interested in detecting the disease instead of only having such high accuracy and missing relevant information.\n",
    "\n",
    "For this reason, it is interesting to introduce other metrics such as sensitivity and specificity.\n",
    "-  **sensitivity**: that represents the true positive rate (in terms of probability is the probability of predicting positive given that the patient has the disease);\n",
    "-  **specificity**: that represents the true negative rate (i.e. the probability of predicting negative, given that the patient is healthy).\n",
    "\n",
    "This information is usually summarized in a table, called **confusion matrix**, used to look at the performance of the classifier in form of a table. The rows represent the Ground truth (GT) and the columns are the output predicted by the model. Each cell coincides with the number of the element corresponding to each GT/model prediction combination and is called:\n",
    "\n",
    "- **True Positive (TP)**: when both GT and the prediction are positive\n",
    "- **False Negative (FN)**: when the GT is positive but the output is negative\n",
    "- **False Positive (FP)**: when the GT is negative (i.e. healthy patient) but the output is positive\n",
    "- **True negative**: when both GT and the prediction are negative\n",
    "\n",
    "In medical applications, especially FN and FP should be reduced as much as possible, in order to avoid missing the detection of a disease or alarming people who are actually in good health.\n",
    "\n",
    "<div>\n",
    "\n",
    "<img  src=\"https://github.com/HelmholtzAI-Consultants-Munich/DL-lecture-tutorials/blob/main/figures/confusionmatrix.png?raw=true\"  width=\"300\"  height=\"200\"/>\n",
    "\n",
    "</div>\n",
    "\n",
    "**Train-test split**\n",
    "This technique applied in the supervised learning tasks, consists in dividing the dataset into two sub-sets: the **train set** and **test set**. This allows the evaluatiion of the performance of a ML algorithm. Indeed, \n",
    "it is essential to point out that the evaluation must be made on data that are not visible to the network during the training. In other words, the objective is to estimate the machine learning model's performance on new data not used to train the model, i.e. the test data."
   ]
  },
  {
   "attachments": {},
   "cell_type": "markdown",
   "metadata": {
    "id": "hoNymXHLmVfV"
   },
   "source": [
    "### ✅ Task: Check the model performance"
   ]
  },
  {
   "attachments": {},
   "cell_type": "markdown",
   "metadata": {
    "id": "1hP2b-oimVfV"
   },
   "source": [
    "### 📝 Step by step tutorial"
   ]
  },
  {
   "attachments": {},
   "cell_type": "markdown",
   "metadata": {
    "id": "AquhdQRWmVfV"
   },
   "source": [
    "#### Step 1. Use your model on unseen data\n",
    "\n",
    "1. The input option should be on `on`. Next to it, there's a dropdown menu set to `Webcam` by default. Set it to `File`\n",
    "2. Import images\n",
    "3. Navigate to `data/unseen` and select an image (either corresponding to COVID or not). How is the model doing?\n"
   ]
  },
  {
   "attachments": {},
   "cell_type": "markdown",
   "metadata": {
    "id": "TlAspA93mVfV"
   },
   "source": [
    "#### Step2. Look at metrics obtained after training\n",
    "Open the 'Under the hood' panel and check the learning curves during the training.\n",
    "> Looking at the accuracy plot over the epochs we can state that the model is not performing badly.\n",
    "\n",
    "🤔 **Question:** What is the difference between the training and the test curve? According to you, which might be the reason? Discuss it with your team and think about possible changes that could improve the model's performance."
   ]
  },
  {
   "cell_type": "code",
   "execution_count": null,
   "metadata": {},
   "outputs": [],
   "source": [
    "#@markdown *Answer:* after discussing with your team, run this cell to have the solution the the previous question.\n",
    "check_task_tm_2_1()"
   ]
  },
  {
   "attachments": {},
   "cell_type": "markdown",
   "metadata": {
    "id": "u2pwiTCwmVfV"
   },
   "source": [
    "#### Step3. Look at the confusion matrix\n",
    "To see the confusion matrix of our model, click the confusion matrix button in the 'Under the hood' panel. You will notice that, even if the model is performing well, there are still some FP and TN."
   ]
  },
  {
   "attachments": {},
   "cell_type": "markdown",
   "metadata": {
    "id": "VJJ6sX-qmVfW"
   },
   "source": [
    "## 🧑‍🏫 Learnings: \n",
    "- discover the power of ML\n",
    "- understand the importance of train-test split\n",
    "- learn to identify overfitting \n",
    "\n",
    "Congratulations! You completed this tutorial!\n",
    "\n",
    "---"
   ]
  },
  {
   "attachments": {},
   "cell_type": "markdown",
   "metadata": {},
   "source": [
    "## Extra exercise\n",
    "\n",
    "### 1. Metrics\n",
    "\n",
    "Try to solve this small exercise and review what we learned about the metrics.\n",
    "\n",
    "According to what we explained, could you compute the sensitivity and specificity of the Teachable Machine model that detects Covid from CT scans? \n",
    "Look again at the confusion matrix in the 'Under the hood panel', insert the data and your solution in the following cell and run it to check whether your answer is correct."
   ]
  },
  {
   "cell_type": "code",
   "execution_count": null,
   "metadata": {},
   "outputs": [],
   "source": [
    "#@markdown Enter the values that you read in the confusion matrix created on the Teachable Machine\n",
    "TP = 0 #@param {type:\"integer\"}\n",
    "FN = 0 #@param {type:\"integer\"}\n",
    "FP = 0 #@param {type:\"integer\"}\n",
    "TN = 0 #@param {type:\"integer\"}\n",
    "\n",
    "confusion_matrix = []\n",
    "confusion_matrix.append(TP) # 'Class covid & Pred Covid'\n",
    "confusion_matrix.append(FN) # 'Class covid & Pred No Covid'\n",
    "confusion_matrix.append(FP) # 'Class No Covid & Pred Covid'\n",
    "confusion_matrix.append(TN) # 'Class No Covid & Pred No Covid'\n",
    "\n",
    "#@markdown Subsitute zeros in the specificity and sensitivity field with your solution (approx at the order 10^-2)\n",
    "sensitivity = 0 #@param {type:\"number\"}\n",
    "specificity = 0 #@param {type:\"number\"}\n",
    "\n",
    "#@markdown Execute the cell to check wether your result is correct or get a feedback\n",
    "check_task_tm_2_2(confusion_matrix, sensitivity, specificity)"
   ]
  },
  {
   "attachments": {},
   "cell_type": "markdown",
   "metadata": {},
   "source": [
    "### 2. Class imbalance\n",
    "\n",
    "Now try the tutorial again, this time, use much less Covid CT scan samples than Non Covid. Look at the metrics, what happens? \n",
    "Try again, but this time, use less Non Covid data. Which scenario is better? (Too many positive samples or too many negative samples) What's the relevant metric here?\n",
    "\n",
    "> - 💡 In \"the real world\", We hardy ever get balanced data. \"How can we mitigate this?\" is a very important question!\n",
    "> - 💡 In practise, Machine Learning is an iterative process that loops through: Data preparation, Model training and Model Evaluation"
   ]
  },
  {
   "attachments": {},
   "cell_type": "markdown",
   "metadata": {
    "id": "B5_arUYgmVfW"
   },
   "source": [
    "## Bonus tasks: play with your own data"
   ]
  },
  {
   "attachments": {},
   "cell_type": "markdown",
   "metadata": {
    "id": "JQ6zJ7sSmVfW"
   },
   "source": [
    "### Image recognition hand/fingers\n",
    "1) Using the camera, create your own dataset with two labeled classes in order to train the machine to recognize an open hand and one finger.\n",
    "2) Train the model and look at the result. Are you satisfied with your model? How could you change the dataset in order to improve the performances?\n",
    "3) Is your model able to recognize a fist? Probably not, what would you do to teach this new thing to your NN?\n",
    "4) Try now to change the background or use the other hand, how is the model reacting then?"
   ]
  },
  {
   "attachments": {},
   "cell_type": "markdown",
   "metadata": {
    "id": "2Foz6ti_mVfW"
   },
   "source": [
    "### Be creative!\n",
    "1. Try to build your own with more than two classes classifier (cat/dog/cow, apple/banana/strawberry,..).\n",
    "2. Now think about your domain: how these kinds of models could help your research or work?"
   ]
  }
 ],
 "metadata": {
  "colab": {
   "provenance": []
  },
  "kernelspec": {
   "display_name": "Python 3 (ipykernel)",
   "language": "python",
   "name": "python3"
  },
  "language_info": {
   "codemirror_mode": {
    "name": "ipython",
    "version": 3
   },
   "file_extension": ".py",
   "mimetype": "text/x-python",
   "name": "python",
   "nbconvert_exporter": "python",
   "pygments_lexer": "ipython3",
   "version": "3.9.16"
  }
 },
 "nbformat": 4,
 "nbformat_minor": 1
}
